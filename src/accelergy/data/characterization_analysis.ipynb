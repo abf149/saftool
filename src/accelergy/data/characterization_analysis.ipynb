{
 "cells": [
  {
   "cell_type": "markdown",
   "metadata": {},
   "source": [
    "# Analysis of SAF primitive characterization results\n",
    "\n",
    "`primitives_table.csv` is for the SAFTools Accelergy estimator to look up action energies and component areas. The primitives table summarizes characterization results for key SAF primitive components. This notebook analyzes & sanity-checks the characterization results."
   ]
  },
  {
   "cell_type": "code",
   "execution_count": 38,
   "metadata": {},
   "outputs": [],
   "source": [
    "#%pip install pandas\n",
    "#%pip install csv\n",
    "#%pip install matplotlib\n",
    "import pandas as pd\n",
    "import matplotlib.pyplot as plt"
   ]
  },
  {
   "cell_type": "markdown",
   "metadata": {},
   "source": [
    "## Sanity-check characterization testbench"
   ]
  },
  {
   "cell_type": "markdown",
   "metadata": {},
   "source": [
    "## Characterization data"
   ]
  },
  {
   "cell_type": "code",
   "execution_count": 43,
   "metadata": {},
   "outputs": [
    {
     "data": {
      "text/html": [
       "<div>\n",
       "<style scoped>\n",
       "    .dataframe tbody tr th:only-of-type {\n",
       "        vertical-align: middle;\n",
       "    }\n",
       "\n",
       "    .dataframe tbody tr th {\n",
       "        vertical-align: top;\n",
       "    }\n",
       "\n",
       "    .dataframe thead th {\n",
       "        text-align: right;\n",
       "    }\n",
       "</style>\n",
       "<table border=\"1\" class=\"dataframe\">\n",
       "  <thead>\n",
       "    <tr style=\"text-align: right;\">\n",
       "      <th></th>\n",
       "      <th>name</th>\n",
       "      <th>critical_path_length</th>\n",
       "      <th>action_energy</th>\n",
       "      <th>absolute_total_area</th>\n",
       "      <th>combinational_area</th>\n",
       "    </tr>\n",
       "  </thead>\n",
       "  <tbody>\n",
       "    <tr>\n",
       "      <th>15</th>\n",
       "      <td>RegisteredAdder_bitwidth16</td>\n",
       "      <td>0.21</td>\n",
       "      <td>25.010</td>\n",
       "      <td>758.3888</td>\n",
       "      <td>479.1553</td>\n",
       "    </tr>\n",
       "    <tr>\n",
       "      <th>16</th>\n",
       "      <td>RegisteredAdder_bitwidth32</td>\n",
       "      <td>0.23</td>\n",
       "      <td>49.855</td>\n",
       "      <td>1455.2993</td>\n",
       "      <td>920.7666</td>\n",
       "    </tr>\n",
       "    <tr>\n",
       "      <th>17</th>\n",
       "      <td>RegisteredAdder_bitwidth64</td>\n",
       "      <td>0.83</td>\n",
       "      <td>99.505</td>\n",
       "      <td>2711.6154</td>\n",
       "      <td>1618.6157</td>\n",
       "    </tr>\n",
       "    <tr>\n",
       "      <th>19</th>\n",
       "      <td>RegisteredMultiplier_bitwidth16</td>\n",
       "      <td>0.19</td>\n",
       "      <td>26.060</td>\n",
       "      <td>2176.6134</td>\n",
       "      <td>1857.4894</td>\n",
       "    </tr>\n",
       "    <tr>\n",
       "      <th>20</th>\n",
       "      <td>RegisteredMultiplier_bitwidth32</td>\n",
       "      <td>0.54</td>\n",
       "      <td>53.525</td>\n",
       "      <td>6129.5273</td>\n",
       "      <td>5435.4326</td>\n",
       "    </tr>\n",
       "  </tbody>\n",
       "</table>\n",
       "</div>"
      ],
      "text/plain": [
       "                               name  critical_path_length  action_energy  \\\n",
       "15       RegisteredAdder_bitwidth16                  0.21         25.010   \n",
       "16       RegisteredAdder_bitwidth32                  0.23         49.855   \n",
       "17       RegisteredAdder_bitwidth64                  0.83         99.505   \n",
       "19  RegisteredMultiplier_bitwidth16                  0.19         26.060   \n",
       "20  RegisteredMultiplier_bitwidth32                  0.54         53.525   \n",
       "\n",
       "    absolute_total_area  combinational_area  \n",
       "15             758.3888            479.1553  \n",
       "16            1455.2993            920.7666  \n",
       "17            2711.6154           1618.6157  \n",
       "19            2176.6134           1857.4894  \n",
       "20            6129.5273           5435.4326  "
      ]
     },
     "execution_count": 43,
     "metadata": {},
     "output_type": "execute_result"
    }
   ],
   "source": [
    "df=pd.read_csv('primitives_table.csv')\n",
    "df=df[[\"name\",\"critical_path_length\",\"action_energy\",\"absolute_total_area\",\"combinational_area\"]]\n",
    "characterization_df=df[df[\"name\"].str.contains(\"Registered\") & ((~(df[\"name\"].str.contains(\"bitwidth1\"))) | df[\"name\"].str.contains(\"bitwidth16\"))]\n",
    "characterization_df.head()"
   ]
  },
  {
   "cell_type": "markdown",
   "metadata": {},
   "source": []
  },
  {
   "cell_type": "markdown",
   "metadata": {},
   "source": [
    "## Reference data\n",
    "\n",
    "**Notes:**\n",
    "* *Registered{Adder,Multiplier}_bitwidth16*: numbers from Accelergy table estimator\n",
    "* *Registered{Adder,Multiplier}_bitwidth32*: numbers from Aladdin table estimator\n",
    "* Here Aladdin \"dynamic energy(pJ)\" is used as a stand-in for \"action energy\""
   ]
  },
  {
   "cell_type": "code",
   "execution_count": 40,
   "metadata": {},
   "outputs": [
    {
     "data": {
      "text/html": [
       "<div>\n",
       "<style scoped>\n",
       "    .dataframe tbody tr th:only-of-type {\n",
       "        vertical-align: middle;\n",
       "    }\n",
       "\n",
       "    .dataframe tbody tr th {\n",
       "        vertical-align: top;\n",
       "    }\n",
       "\n",
       "    .dataframe thead th {\n",
       "        text-align: right;\n",
       "    }\n",
       "</style>\n",
       "<table border=\"1\" class=\"dataframe\">\n",
       "  <thead>\n",
       "    <tr style=\"text-align: right;\">\n",
       "      <th></th>\n",
       "      <th>name</th>\n",
       "      <th>critical_path_length</th>\n",
       "      <th>action_energy</th>\n",
       "      <th>absolute_total_area</th>\n",
       "      <th>reference_citation</th>\n",
       "    </tr>\n",
       "  </thead>\n",
       "  <tbody>\n",
       "    <tr>\n",
       "      <th>0</th>\n",
       "      <td>RegisteredAdder_bitwidth16</td>\n",
       "      <td>5.0</td>\n",
       "      <td>1.0000</td>\n",
       "      <td>0.0</td>\n",
       "      <td>accelergy_tables</td>\n",
       "    </tr>\n",
       "    <tr>\n",
       "      <th>1</th>\n",
       "      <td>RegisteredAdder_bitwidth32</td>\n",
       "      <td>5.0</td>\n",
       "      <td>0.0857</td>\n",
       "      <td>179.0</td>\n",
       "      <td>aladdin_tables</td>\n",
       "    </tr>\n",
       "    <tr>\n",
       "      <th>2</th>\n",
       "      <td>RegisteredMultiplier_bitwidth16</td>\n",
       "      <td>5.0</td>\n",
       "      <td>1.0000</td>\n",
       "      <td>0.0</td>\n",
       "      <td>accelergy_tables</td>\n",
       "    </tr>\n",
       "    <tr>\n",
       "      <th>3</th>\n",
       "      <td>RegisteredMultiplier_bitwidth32</td>\n",
       "      <td>5.0</td>\n",
       "      <td>8.6300</td>\n",
       "      <td>4600.0</td>\n",
       "      <td>aladdin_tables</td>\n",
       "    </tr>\n",
       "  </tbody>\n",
       "</table>\n",
       "</div>"
      ],
      "text/plain": [
       "                              name  critical_path_length  action_energy  \\\n",
       "0       RegisteredAdder_bitwidth16                   5.0         1.0000   \n",
       "1       RegisteredAdder_bitwidth32                   5.0         0.0857   \n",
       "2  RegisteredMultiplier_bitwidth16                   5.0         1.0000   \n",
       "3  RegisteredMultiplier_bitwidth32                   5.0         8.6300   \n",
       "\n",
       "   absolute_total_area reference_citation  \n",
       "0                  0.0   accelergy_tables  \n",
       "1                179.0     aladdin_tables  \n",
       "2                  0.0   accelergy_tables  \n",
       "3               4600.0     aladdin_tables  "
      ]
     },
     "execution_count": 40,
     "metadata": {},
     "output_type": "execute_result"
    }
   ],
   "source": [
    "data = {'name': ['RegisteredAdder_bitwidth16', 'RegisteredAdder_bitwidth32','RegisteredMultiplier_bitwidth16','RegisteredMultiplier_bitwidth32'],\n",
    "        'critical_path_length': [5.0,5.0,5.0,5.0],\n",
    "        'action_energy': [1.0,0.0857,1.0,8.63],\n",
    "        'absolute_total_area': [0,179.0,0,4600.0],\n",
    "        'reference_citation': ['accelergy_tables','aladdin_tables','accelergy_tables','aladdin_tables']\n",
    "        }\n",
    "df = pd.DataFrame(data)\n",
    "df"
   ]
  },
  {
   "cell_type": "markdown",
   "metadata": {},
   "source": [
    "## Multiplier analysis"
   ]
  },
  {
   "cell_type": "code",
   "execution_count": 41,
   "metadata": {},
   "outputs": [
    {
     "data": {
      "text/html": [
       "<div>\n",
       "<style scoped>\n",
       "    .dataframe tbody tr th:only-of-type {\n",
       "        vertical-align: middle;\n",
       "    }\n",
       "\n",
       "    .dataframe tbody tr th {\n",
       "        vertical-align: top;\n",
       "    }\n",
       "\n",
       "    .dataframe thead th {\n",
       "        text-align: right;\n",
       "    }\n",
       "</style>\n",
       "<table border=\"1\" class=\"dataframe\">\n",
       "  <thead>\n",
       "    <tr style=\"text-align: right;\">\n",
       "      <th></th>\n",
       "      <th>critical_path_length</th>\n",
       "      <th>action_energy</th>\n",
       "      <th>absolute_total_area</th>\n",
       "      <th>stages</th>\n",
       "    </tr>\n",
       "  </thead>\n",
       "  <tbody>\n",
       "    <tr>\n",
       "      <th>0</th>\n",
       "      <td>0.5</td>\n",
       "      <td>18.94</td>\n",
       "      <td>8340</td>\n",
       "      <td>3</td>\n",
       "    </tr>\n",
       "    <tr>\n",
       "      <th>1</th>\n",
       "      <td>1.0</td>\n",
       "      <td>12.68</td>\n",
       "      <td>6350</td>\n",
       "      <td>1</td>\n",
       "    </tr>\n",
       "    <tr>\n",
       "      <th>2</th>\n",
       "      <td>2.0</td>\n",
       "      <td>9.55</td>\n",
       "      <td>5140</td>\n",
       "      <td>1</td>\n",
       "    </tr>\n",
       "    <tr>\n",
       "      <th>3</th>\n",
       "      <td>3.0</td>\n",
       "      <td>8.80</td>\n",
       "      <td>4970</td>\n",
       "      <td>1</td>\n",
       "    </tr>\n",
       "    <tr>\n",
       "      <th>4</th>\n",
       "      <td>4.0</td>\n",
       "      <td>8.66</td>\n",
       "      <td>4620</td>\n",
       "      <td>1</td>\n",
       "    </tr>\n",
       "    <tr>\n",
       "      <th>5</th>\n",
       "      <td>5.0</td>\n",
       "      <td>8.63</td>\n",
       "      <td>4600</td>\n",
       "      <td>1</td>\n",
       "    </tr>\n",
       "    <tr>\n",
       "      <th>6</th>\n",
       "      <td>6.0</td>\n",
       "      <td>8.63</td>\n",
       "      <td>4600</td>\n",
       "      <td>1</td>\n",
       "    </tr>\n",
       "    <tr>\n",
       "      <th>7</th>\n",
       "      <td>10.0</td>\n",
       "      <td>8.80</td>\n",
       "      <td>4600</td>\n",
       "      <td>1</td>\n",
       "    </tr>\n",
       "  </tbody>\n",
       "</table>\n",
       "</div>"
      ],
      "text/plain": [
       "   critical_path_length  action_energy  absolute_total_area  stages\n",
       "0                   0.5          18.94                 8340       3\n",
       "1                   1.0          12.68                 6350       1\n",
       "2                   2.0           9.55                 5140       1\n",
       "3                   3.0           8.80                 4970       1\n",
       "4                   4.0           8.66                 4620       1\n",
       "5                   5.0           8.63                 4600       1\n",
       "6                   6.0           8.63                 4600       1\n",
       "7                  10.0           8.80                 4600       1"
      ]
     },
     "execution_count": 41,
     "metadata": {},
     "output_type": "execute_result"
    }
   ],
   "source": [
    "aladdin_32bit_multiplier_data = {'critical_path_length': [0.5,1.0,2.0,3.0,4.0,5.0,6.0,10.0],\n",
    "        'action_energy': [18.94,12.68,9.55,8.8,8.66,8.63,8.63,8.8],\n",
    "        'absolute_total_area': [8340,6350,5140,4970,4620,4600,4600,4600],\n",
    "        'stages': [3,1,1,1,1,1,1,1],\n",
    "        }\n",
    "aladdin_32bit_multiplier_df = pd.DataFrame(aladdin_32bit_multiplier_data)\n",
    "aladdin_32bit_multiplier_df"
   ]
  },
  {
   "cell_type": "code",
   "execution_count": 47,
   "metadata": {},
   "outputs": [
    {
     "data": {
      "text/html": [
       "<div>\n",
       "<style scoped>\n",
       "    .dataframe tbody tr th:only-of-type {\n",
       "        vertical-align: middle;\n",
       "    }\n",
       "\n",
       "    .dataframe tbody tr th {\n",
       "        vertical-align: top;\n",
       "    }\n",
       "\n",
       "    .dataframe thead th {\n",
       "        text-align: right;\n",
       "    }\n",
       "</style>\n",
       "<table border=\"1\" class=\"dataframe\">\n",
       "  <thead>\n",
       "    <tr style=\"text-align: right;\">\n",
       "      <th></th>\n",
       "      <th>name</th>\n",
       "      <th>critical_path_length</th>\n",
       "      <th>action_energy</th>\n",
       "      <th>absolute_total_area</th>\n",
       "      <th>combinational_area</th>\n",
       "    </tr>\n",
       "  </thead>\n",
       "  <tbody>\n",
       "    <tr>\n",
       "      <th>20</th>\n",
       "      <td>RegisteredMultiplier_bitwidth32</td>\n",
       "      <td>0.54</td>\n",
       "      <td>53.525</td>\n",
       "      <td>6129.5273</td>\n",
       "      <td>5435.4326</td>\n",
       "    </tr>\n",
       "  </tbody>\n",
       "</table>\n",
       "</div>"
      ],
      "text/plain": [
       "                               name  critical_path_length  action_energy  \\\n",
       "20  RegisteredMultiplier_bitwidth32                  0.54         53.525   \n",
       "\n",
       "    absolute_total_area  combinational_area  \n",
       "20            6129.5273           5435.4326  "
      ]
     },
     "execution_count": 47,
     "metadata": {},
     "output_type": "execute_result"
    }
   ],
   "source": [
    "char_mult_df=characterization_df[characterization_df['name']=='RegisteredMultiplier_bitwidth32']\n",
    "char_mult_df.head()"
   ]
  },
  {
   "cell_type": "code",
   "execution_count": 68,
   "metadata": {},
   "outputs": [
    {
     "data": {
      "image/png": "[encoded data removed]",
      "text/plain": [
       "<Figure size 700x350 with 1 Axes>"
      ]
     },
     "metadata": {},
     "output_type": "display_data"
    }
   ],
   "source": [
    "plt.rcParams[\"figure.figsize\"] = [7.00, 3.50]\n",
    "plt.rcParams[\"figure.autolayout\"] = True\n",
    "ax=aladdin_32bit_multiplier_df.plot(x='critical_path_length',y='action_energy')\n",
    "char_mult_df.plot(ax=ax,x='critical_path_length',y='action_energy',kind='scatter')\n",
    "plt.grid(True)\n",
    "plt.xlabel('Critical path length (ns)')\n",
    "plt.ylabel('Action energy (pJ)')\n",
    "plt.title('Multiplier action energy comparison, SAFtool 45nm vs Aladdin 40nm')\n",
    "plt.show()"
   ]
  },
  {
   "cell_type": "markdown",
   "metadata": {},
   "source": [
    "## Adder comparison"
   ]
  },
  {
   "cell_type": "code",
   "execution_count": 69,
   "metadata": {},
   "outputs": [
    {
     "data": {
      "text/html": [
       "<div>\n",
       "<style scoped>\n",
       "    .dataframe tbody tr th:only-of-type {\n",
       "        vertical-align: middle;\n",
       "    }\n",
       "\n",
       "    .dataframe tbody tr th {\n",
       "        vertical-align: top;\n",
       "    }\n",
       "\n",
       "    .dataframe thead th {\n",
       "        text-align: right;\n",
       "    }\n",
       "</style>\n",
       "<table border=\"1\" class=\"dataframe\">\n",
       "  <thead>\n",
       "    <tr style=\"text-align: right;\">\n",
       "      <th></th>\n",
       "      <th>critical_path_length</th>\n",
       "      <th>action_energy</th>\n",
       "      <th>absolute_total_area</th>\n",
       "      <th>stages</th>\n",
       "    </tr>\n",
       "  </thead>\n",
       "  <tbody>\n",
       "    <tr>\n",
       "      <th>0</th>\n",
       "      <td>0.5</td>\n",
       "      <td>0.1420</td>\n",
       "      <td>379</td>\n",
       "      <td>1</td>\n",
       "    </tr>\n",
       "    <tr>\n",
       "      <th>1</th>\n",
       "      <td>1.0</td>\n",
       "      <td>0.2100</td>\n",
       "      <td>278</td>\n",
       "      <td>1</td>\n",
       "    </tr>\n",
       "    <tr>\n",
       "      <th>2</th>\n",
       "      <td>2.0</td>\n",
       "      <td>0.0858</td>\n",
       "      <td>179</td>\n",
       "      <td>1</td>\n",
       "    </tr>\n",
       "    <tr>\n",
       "      <th>3</th>\n",
       "      <td>3.0</td>\n",
       "      <td>0.0859</td>\n",
       "      <td>179</td>\n",
       "      <td>1</td>\n",
       "    </tr>\n",
       "    <tr>\n",
       "      <th>4</th>\n",
       "      <td>4.0</td>\n",
       "      <td>0.0857</td>\n",
       "      <td>179</td>\n",
       "      <td>1</td>\n",
       "    </tr>\n",
       "    <tr>\n",
       "      <th>5</th>\n",
       "      <td>5.0</td>\n",
       "      <td>0.0857</td>\n",
       "      <td>179</td>\n",
       "      <td>1</td>\n",
       "    </tr>\n",
       "    <tr>\n",
       "      <th>6</th>\n",
       "      <td>6.0</td>\n",
       "      <td>0.0857</td>\n",
       "      <td>179</td>\n",
       "      <td>1</td>\n",
       "    </tr>\n",
       "    <tr>\n",
       "      <th>7</th>\n",
       "      <td>10.0</td>\n",
       "      <td>0.0853</td>\n",
       "      <td>179</td>\n",
       "      <td>1</td>\n",
       "    </tr>\n",
       "  </tbody>\n",
       "</table>\n",
       "</div>"
      ],
      "text/plain": [
       "   critical_path_length  action_energy  absolute_total_area  stages\n",
       "0                   0.5         0.1420                  379       1\n",
       "1                   1.0         0.2100                  278       1\n",
       "2                   2.0         0.0858                  179       1\n",
       "3                   3.0         0.0859                  179       1\n",
       "4                   4.0         0.0857                  179       1\n",
       "5                   5.0         0.0857                  179       1\n",
       "6                   6.0         0.0857                  179       1\n",
       "7                  10.0         0.0853                  179       1"
      ]
     },
     "execution_count": 69,
     "metadata": {},
     "output_type": "execute_result"
    }
   ],
   "source": [
    "aladdin_32bit_adder_data = {'critical_path_length': [0.5,1.0,2.0,3.0,4.0,5.0,6.0,10.0],\n",
    "        'action_energy': [0.142,0.21,0.0858,0.0859,0.0857,0.0857,0.0857,0.0853],\n",
    "        'absolute_total_area': [379,278,179,179,179,179,179,179],\n",
    "        'stages': [1,1,1,1,1,1,1,1],\n",
    "        }\n",
    "aladdin_32bit_adder_df = pd.DataFrame(aladdin_32bit_adder_data)\n",
    "aladdin_32bit_adder_df"
   ]
  },
  {
   "cell_type": "code",
   "execution_count": 70,
   "metadata": {},
   "outputs": [
    {
     "data": {
      "text/html": [
       "<div>\n",
       "<style scoped>\n",
       "    .dataframe tbody tr th:only-of-type {\n",
       "        vertical-align: middle;\n",
       "    }\n",
       "\n",
       "    .dataframe tbody tr th {\n",
       "        vertical-align: top;\n",
       "    }\n",
       "\n",
       "    .dataframe thead th {\n",
       "        text-align: right;\n",
       "    }\n",
       "</style>\n",
       "<table border=\"1\" class=\"dataframe\">\n",
       "  <thead>\n",
       "    <tr style=\"text-align: right;\">\n",
       "      <th></th>\n",
       "      <th>name</th>\n",
       "      <th>critical_path_length</th>\n",
       "      <th>action_energy</th>\n",
       "      <th>absolute_total_area</th>\n",
       "      <th>combinational_area</th>\n",
       "    </tr>\n",
       "  </thead>\n",
       "  <tbody>\n",
       "    <tr>\n",
       "      <th>16</th>\n",
       "      <td>RegisteredAdder_bitwidth32</td>\n",
       "      <td>0.23</td>\n",
       "      <td>49.855</td>\n",
       "      <td>1455.2993</td>\n",
       "      <td>920.7666</td>\n",
       "    </tr>\n",
       "  </tbody>\n",
       "</table>\n",
       "</div>"
      ],
      "text/plain": [
       "                          name  critical_path_length  action_energy  \\\n",
       "16  RegisteredAdder_bitwidth32                  0.23         49.855   \n",
       "\n",
       "    absolute_total_area  combinational_area  \n",
       "16            1455.2993            920.7666  "
      ]
     },
     "execution_count": 70,
     "metadata": {},
     "output_type": "execute_result"
    }
   ],
   "source": [
    "char_adder_df=characterization_df[characterization_df['name']=='RegisteredAdder_bitwidth32']\n",
    "char_adder_df.head()"
   ]
  },
  {
   "cell_type": "code",
   "execution_count": 73,
   "metadata": {},
   "outputs": [
    {
     "data": {
      "image/png": "[encoded data removed]",
      "text/plain": [
       "<Figure size 700x350 with 1 Axes>"
      ]
     },
     "metadata": {},
     "output_type": "display_data"
    }
   ],
   "source": [
    "plt.rcParams[\"figure.figsize\"] = [7.00, 3.50]\n",
    "plt.rcParams[\"figure.autolayout\"] = True\n",
    "ax=aladdin_32bit_adder_df.plot(x='critical_path_length',y='absolute_total_area')\n",
    "char_adder_df.plot(ax=ax,x='critical_path_length',y='absolute_total_area',kind='scatter')\n",
    "plt.grid(True)\n",
    "plt.xlabel('Critical path length (ns)')\n",
    "plt.ylabel('Action energy (pJ)')\n",
    "plt.title('Adder area comparison, SAFtool 45nm vs Aladdin 40nm')\n",
    "plt.show()"
   ]
  },
  {
   "cell_type": "code",
   "execution_count": 74,
   "metadata": {},
   "outputs": [
    {
     "data": {
      "image/png": "[encoded data removed]",
      "text/plain": [
       "<Figure size 700x350 with 1 Axes>"
      ]
     },
     "metadata": {},
     "output_type": "display_data"
    }
   ],
   "source": [
    "plt.rcParams[\"figure.figsize\"] = [7.00, 3.50]\n",
    "plt.rcParams[\"figure.autolayout\"] = True\n",
    "ax=aladdin_32bit_adder_df.plot(x='critical_path_length',y='action_energy')\n",
    "char_adder_df.plot(ax=ax,x='critical_path_length',y='action_energy',kind='scatter')\n",
    "plt.grid(True)\n",
    "plt.xlabel('Critical path length (ns)')\n",
    "plt.ylabel('Action energy (pJ)')\n",
    "plt.title('Adder action energy comparison, SAFtool 45nm vs Aladdin 40nm')\n",
    "plt.show()"
   ]
  },
  {
   "cell_type": "code",
   "execution_count": null,
   "metadata": {},
   "outputs": [],
   "source": []
  }
 ],
 "metadata": {
  "kernelspec": {
   "display_name": "Python 3.11.1 64-bit",
   "language": "python",
   "name": "python3"
  },
  "language_info": {
   "codemirror_mode": {
    "name": "ipython",
    "version": 3
   },
   "file_extension": ".py",
   "mimetype": "text/x-python",
   "name": "python",
   "nbconvert_exporter": "python",
   "pygments_lexer": "ipython3",
   "version": "3.11.1"
  },
  "orig_nbformat": 4,
  "vscode": {
   "interpreter": {
    "hash": "5c7b89af1651d0b8571dde13640ecdccf7d5a6204171d6ab33e7c296e100e08a"
   }
  }
 },
 "nbformat": 4,
 "nbformat_minor": 2
}
