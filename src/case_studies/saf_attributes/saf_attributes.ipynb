{
 "cells": [
  {
   "cell_type": "markdown",
   "metadata": {},
   "source": [
    "# Case-study: Impact of SAF attribute selection"
   ]
  },
  {
   "cell_type": "code",
   "execution_count": 2,
   "metadata": {},
   "outputs": [
    {
     "name": "stdout",
     "output_type": "stream",
     "text": [
      "/Users/afeld2012/codeHome/saftool/src/case_studies/saf_attributes\n"
     ]
    }
   ],
   "source": [
    "!pwd"
   ]
  },
  {
   "cell_type": "code",
   "execution_count": 1,
   "metadata": {},
   "outputs": [
    {
     "name": "stdout",
     "output_type": "stream",
     "text": [
      "usage: safinfer [-h] [-i DIR_IN] [-a ARCH] [-m MAP] [-p PROB] [-s SPARSEOPTS]\n",
      "                [-o DIR_OUT] [-b BINDING_OUT] [-t TAXO_SCRIPT_LIB]\n",
      "                [-T TOPOLOGY_OUT] [-r] [-L] [-f LOG_FILE] [-q SETTINGS]\n",
      "\n",
      "options:\n",
      "  -h, --help            show this help message and exit\n",
      "  -i DIR_IN, --dir-in DIR_IN\n",
      "  -a ARCH, --arch ARCH\n",
      "  -m MAP, --map MAP\n",
      "  -p PROB, --prob PROB\n",
      "  -s SPARSEOPTS, --sparseopts SPARSEOPTS\n",
      "  -o DIR_OUT, --dir-out DIR_OUT\n",
      "  -b BINDING_OUT, --binding-out BINDING_OUT\n",
      "  -t TAXO_SCRIPT_LIB, --taxo-script-lib TAXO_SCRIPT_LIB\n",
      "  -T TOPOLOGY_OUT, --topology-out TOPOLOGY_OUT\n",
      "  -r, --reconfigurable-arch\n",
      "  -L, --log\n",
      "  -f LOG_FILE, --log-file LOG_FILE\n",
      "  -q SETTINGS, --settings SETTINGS\n",
      "                        safinfer configuration file.\n"
     ]
    }
   ],
   "source": [
    "!safinfer -h"
   ]
  },
  {
   "cell_type": "code",
   "execution_count": 24,
   "metadata": {},
   "outputs": [
    {
     "name": "stdout",
     "output_type": "stream",
     "text": [
      "- SAFinfer settings path: ref_input/safinfer_settings_C_bidir.yaml\n",
      "logging: False\n",
      ">> SAFinfer\n",
      ":: Setup\n",
      ":: => Done, setup\n",
      "reconfigurable_arch: False\n",
      ":: Taxonomic inference\n",
      "- COMPLETE: microarchitecture inference\n",
      "  => SUCCESS\n",
      "- Dumping inferred SAF microarchitecture topology to ref_output/new_arch.yaml ...\n",
      ":: => Done, taxonomic inference\n",
      "<< Done, SAFinfer\n"
     ]
    }
   ],
   "source": [
    "!rm -f ref_output/new_arch.yaml ref_output/new_arch.yaml.*\n",
    "!safinfer -a ref_input/arch.yaml -s ref_input/sparseopts_C_bidir.yaml -q ref_input/safinfer_settings_C_bidir.yaml -o ref_output/\n",
    "!mv ref_output/new_arch.yaml.pretty ref_output/new_arch_C_bidir.yaml.pretty\n",
    "!mv ref_output/new_arch.yaml ref_output/new_arch_C_bidir.yaml"
   ]
  },
  {
   "cell_type": "code",
   "execution_count": 25,
   "metadata": {},
   "outputs": [
    {
     "name": "stdout",
     "output_type": "stream",
     "text": [
      "zsh:1: no matches found: ref_output/new_arch.yaml.*\n"
     ]
    },
    {
     "name": "stdout",
     "output_type": "stream",
     "text": [
      "- SAFinfer settings path: ref_input/safinfer_settings_C_lf.yaml\n",
      "logging: False\n",
      ">> SAFinfer\n",
      ":: Setup\n",
      ":: => Done, setup\n",
      "reconfigurable_arch: False\n",
      ":: Taxonomic inference\n",
      "- ERROR: could not infer microarchitecture\n",
      "  => FAILURE\n",
      "- Dumping inferred SAF microarchitecture topology to ref_output/new_arch.yaml.fail ...\n",
      "Failure component:\n",
      "- Component: TestArchitecture.Skipping_shared_buffer3_shared_buffer1\n",
      "- Attributes: [<core.taxonomy.expressions.FormatType object at 0x11dd33010>, <core.taxonomy.expressions.FormatType object at 0x10dbc6550>, 'leader_follower', '?']\n",
      ":: => Done, taxonomic inference\n",
      "<< Done, SAFinfer\n",
      "mv: ref_output/new_arch.yaml.pretty: No such file or directory\n",
      "mv: ref_output/new_arch.yaml: No such file or directory\n"
     ]
    }
   ],
   "source": [
    "!rm -f ref_output/new_arch.yaml ref_output/new_arch.yaml.*\n",
    "!safinfer -a ref_input/arch.yaml -s ref_input/sparseopts_C_lf.yaml -q ref_input/safinfer_settings_C_lf.yaml -o ref_output/\n",
    "!mv ref_output/new_arch.yaml.pretty ref_output/new_arch_C_lf.yaml.pretty\n",
    "!mv ref_output/new_arch.yaml ref_output/new_arch_C_lf.yaml"
   ]
  },
  {
   "cell_type": "code",
   "execution_count": null,
   "metadata": {},
   "outputs": [],
   "source": [
    "!safmodel -h"
   ]
  },
  {
   "cell_type": "code",
   "execution_count": 5,
   "metadata": {},
   "outputs": [
    {
     "name": "stdout",
     "output_type": "stream",
     "text": [
      "SAFmodel.\r\n",
      "\r\n",
      "Parsing input files:\r\n",
      "- netlist: ref_output/new_arch.yaml\r\n",
      "Traceback (most recent call last):\r\n",
      "  File \"/usr/local/bin/conda/bin/safmodel\", line 33, in <module>\r\n",
      "    sys.exit(load_entry_point('saftools', 'console_scripts', 'safmodel')())\r\n",
      "  File \"/home/saftool/src/safmodel.py\", line 76, in main\r\n",
      "    taxo_script_lib_list = safio.parse_args()\r\n",
      "  File \"/home/saftool/src/core/safmodel_io.py\", line 194, in parse_args\r\n",
      "    processed_args=process_args(args)\r\n",
      "  File \"/home/saftool/src/core/safmodel_io.py\", line 118, in process_args\r\n",
      "    netlist=de.Architecture.fromYamlFilename(args.topology_out)\r\n",
      "  File \"/home/saftool/src/core/taxonomy/serializableobject.py\", line 27, in fromYamlFilename\r\n",
      "    return cls.fromDict(cls.yaml2dict(fname))\r\n",
      "  File \"/home/saftool/src/core/taxonomy/serializableobject.py\", line 39, in yaml2dict\r\n",
      "    with open(fname, 'r') as file:\r\n",
      "FileNotFoundError: [Errno 2] No such file or directory: 'ref_output/new_arch.yaml'\r\n"
     ]
    }
   ],
   "source": [
    "!safmodel -T src/ref_output/new_arch.yaml -a src/ref_input/arch.yaml -s src/ref_input/sparseopts.yaml -c src/ref_input/compound_components.yaml -U src/ref_input/safmodel_settings.yaml  -r src/ref_output/arch_w_SAF.yaml -k   src/ref_output/"
   ]
  },
  {
   "cell_type": "code",
   "execution_count": null,
   "metadata": {},
   "outputs": [],
   "source": []
  }
 ],
 "metadata": {
  "kernelspec": {
   "display_name": "Python 3 (ipykernel)",
   "language": "python",
   "name": "python3"
  },
  "language_info": {
   "codemirror_mode": {
    "name": "ipython",
    "version": 3
   },
   "file_extension": ".py",
   "mimetype": "text/x-python",
   "name": "python",
   "nbconvert_exporter": "python",
   "pygments_lexer": "ipython3",
   "version": "3.11.6"
  }
 },
 "nbformat": 4,
 "nbformat_minor": 2
}
