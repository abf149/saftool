{
 "cells": [
  {
   "cell_type": "markdown",
   "metadata": {},
   "source": [
    "# Case-study: SAF attributes"
   ]
  },
  {
   "cell_type": "code",
   "execution_count": 3,
   "metadata": {},
   "outputs": [],
   "source": [
    "from accelergy.parse_characterization import *\n",
    "char_file_path = \"../../accelergy/data/primitives_table.csv\""
   ]
  },
  {
   "cell_type": "code",
   "execution_count": 4,
   "metadata": {},
   "outputs": [
    {
     "name": "stdout",
     "output_type": "stream",
     "text": [
      "Unique Component Names (examples): ['VectorTwoFingerMergeIntersectionRegistered', 'VectorSkipAheadIntersectionUnitRegistered', 'RegisteredEqualityComparator', 'GeneralizedRipplePrefixSumRegistered', 'VectorDirectMappedIntersectionUnitRegistered']\n",
      "Parameters with Ordering (examples): [('BidirectionalBitmaskIntersectDecoupled', (defaultdict(<class 'set'>, {'metaDataWidth': {128, 1, 2, 32, 4, 64, 8, 16}}), ['metaDataWidth'])), ('GeneralizedParallelKoggeStonePrefixSumRegistered', (defaultdict(<class 'set'>, {'vectorLength': {32, 1, 2, 64, 4, 8, 16}, 'inputBitWidth': {8, 1, 2, 4}}), ['vectorLength', 'inputBitWidth'])), ('GeneralizedRipplePrefixSumRegistered', (defaultdict(<class 'set'>, {'vectorLength': {32, 1, 2, 64, 4, 8, 16}, 'inputBitWidth': {8, 1, 2, 4}}), ['vectorLength', 'inputBitWidth'])), ('RegisteredAdder', (defaultdict(<class 'set'>, {'bitwidth': {32, 1, 2, 64, 4, 8, 16}}), ['bitwidth'])), ('RegisteredEqualityComparator', (defaultdict(<class 'set'>, {'bitwidth': {32, 1, 2, 64, 4, 8, 16}}), ['bitwidth']))]\n",
      "Supported Clock Latencies (examples): [('BidirectionalBitmaskIntersectDecoupled', [1.0, 2.0, 5.0, 10.0]), ('GeneralizedParallelKoggeStonePrefixSumRegistered', [1.0, 2.0, 5.0, 10.0]), ('GeneralizedRipplePrefixSumRegistered', [1.0, 2.0, 5.0, 10.0]), ('RegisteredAdder', [1.0, 2.0, 5.0, 10.0]), ('RegisteredEqualityComparator', [1.0, 2.0, 5.0, 10.0])]\n",
      "Supported Parameter Combinations (examples): [(('BidirectionalBitmaskIntersectDecoupled', 1.0), {(2,), (8,), (4,), (1,), (16,), (64,), (32,), (128,)}), (('GeneralizedParallelKoggeStonePrefixSumRegistered', 1.0), {(2, 2), (16, 4), (2, 8), (16, 1), (64, 1), (4, 2), (4, 8), (8, 2), (8, 8), (2, 4), (1, 2), (2, 1), (1, 8), (4, 1), (4, 4), (8, 4), (32, 1), (8, 1), (1, 1), (1, 4), (16, 2), (16, 8)}), (('GeneralizedRipplePrefixSumRegistered', 1.0), {(2, 2), (16, 4), (2, 8), (16, 1), (64, 1), (4, 2), (4, 8), (8, 2), (8, 8), (2, 4), (1, 2), (2, 1), (1, 8), (4, 1), (4, 4), (8, 4), (32, 1), (8, 1), (1, 1), (1, 4), (16, 2), (16, 8)}), (('RegisteredAdder', 1.0), {(2,), (8,), (4,), (1,), (16,), (64,), (32,)}), (('RegisteredEqualityComparator', 1.0), {(2,), (8,), (4,), (1,), (16,), (64,), (32,)})]\n",
      "Simulation Metrics Mapping (examples): [(('BidirectionalBitmaskIntersectDecoupled', (1,), 1.0), [0.0, 0.0, 0.0, 0.0, 0.0, 0.0, 0.0, 0.0, 0.0, 0.0, 0.0, 0.0, 0.07032, 0.0, 0.0, 0.07032, 0.0033289, 0.00067334, 274.887, 0.0042771, 0.0, 0.0, 0.0, 0.0, 0.0051106, 0.0033174, 262.2285, 0.0086903, '1mW', '1nW', 52.561599, 39.890499, 19.2413, 9.39, 9.86, 0.0, 0.0, 'um2', 0.28, 6.0, 0.62, 0.0, 0.0, 0.0, 0.0, 0.0, 'ns']), (('BidirectionalBitmaskIntersectDecoupled', (128,), 1.0), [0.0, 0.0, 0.0, 0.0, 0.0, 0.0, 0.0, 0.0, 0.0, 0.0, 0.0, 0.0, 9.9573, 0.0, 0.0, 9.9573, 0.7224, 0.1461, 38924.0, 0.9074, 0.0, 0.0, 0.0, 0.0, 0.1475, 0.1006, 12276.0, 0.2603, '1mW', '1nW', 2908.252031, 5648.494675, 1465.623863, 696.91, 768.71, 0.0, 0.0, 'um2', 0.71, 4.0, 0.19, 0.0, 0.0, 0.0, 0.0, 0.0, 'ns']), (('BidirectionalBitmaskIntersectDecoupled', (16,), 1.0), [0.0, 0.0, 0.0, 0.0, 0.0, 0.0, 0.0, 0.0, 0.0, 0.0, 0.0, 0.0, 0.7032, 0.0, 0.0, 0.7032, 0.019745, 0.0038563, 2748.9, 0.026351, 0.0, 0.0, 0.0, 0.0, 0.018035, 0.022158, 1508.3, 0.041701, '1mW', '1nW', 359.483792, 398.904991, 198.044595, 122.02, 76.03, 0.0, 0.0, 'um2', 0.55, 8.0, 0.35, 0.0, 0.0, 0.0, 0.0, 0.0, 'ns']), (('BidirectionalBitmaskIntersectDecoupled', (2,), 1.0), [0.0, 0.0, 0.0, 0.0, 0.0, 0.0, 0.0, 0.0, 0.0, 0.0, 0.0, 0.0, 0.1125, 0.0, 0.0, 0.1125, 0.0044433, 0.00087808, 439.8192, 0.0057612, 0.0, 0.0, 0.0, 0.0, 0.0054238, 0.0048593, 346.2935, 0.010629, '1mW', '1nW', 76.965198, 63.824799, 40.359799, 23.46, 16.89, 0.0, 0.0, 'um2', 0.34, 8.0, 0.56, 0.0, 0.0, 0.0, 0.0, 0.0, 'ns']), (('BidirectionalBitmaskIntersectDecoupled', (32,), 1.0), [0.0, 0.0, 0.0, 0.0, 0.0, 0.0, 0.0, 0.0, 0.0, 0.0, 0.0, 0.0, 1.8705, 0.0, 0.0, 1.8705, 0.1201, 0.045392, 7312.0, 0.1728, 0.0, 0.0, 0.0, 0.0, 0.033277, 0.010137, 2833.8, 0.046248, '1mW', '1nW', 683.300785, 1061.087276, 378.25579, 234.65, 143.61, 0.0, 0.0, 'um2', 0.43, 3.0, 0.48, 0.0, 0.0, 0.0, 0.0, 0.0, 'ns'])]\n"
     ]
    }
   ],
   "source": [
    "# Integrating the new function into the existing code snippet\n",
    "\n",
    "# Extracting unique component names\n",
    "unique_component_names = extract_unique_component_names(char_file_path)\n",
    "print(\"Unique Component Names (examples):\", list(unique_component_names)[:5])\n",
    "\n",
    "# Extracting parameters and their values with ordering\n",
    "parameters_with_ordering = extract_parameters_and_values_with_ordering(unique_component_names, char_file_path)\n",
    "print(\"Parameters with Ordering (examples):\", list(parameters_with_ordering.items())[:5])\n",
    "\n",
    "# Extracting supported clock latencies\n",
    "supported_clock_latencies = extract_supported_clock_latencies(char_file_path)\n",
    "print(\"Supported Clock Latencies (examples):\", list(supported_clock_latencies.items())[:5])\n",
    "\n",
    "# Extracting supported combinations of parameter values\n",
    "supported_param_combinations = extract_supported_param_combinations(char_file_path, unique_component_names, parameters_with_ordering)\n",
    "print(\"Supported Parameter Combinations (examples):\", list(supported_param_combinations.items())[:5])\n",
    "\n",
    "# Extracting the simulation metrics mapping\n",
    "simulation_metrics_mapping = extract_simulation_metrics(char_file_path, unique_component_names, parameters_with_ordering, supported_clock_latencies)\n",
    "print(\"Simulation Metrics Mapping (examples):\", list(simulation_metrics_mapping.items())[:5])\n"
   ]
  }
 ],
 "metadata": {
  "kernelspec": {
   "display_name": "Python 3",
   "language": "python",
   "name": "python3"
  },
  "language_info": {
   "codemirror_mode": {
    "name": "ipython",
    "version": 3
   },
   "file_extension": ".py",
   "mimetype": "text/x-python",
   "name": "python",
   "nbconvert_exporter": "python",
   "pygments_lexer": "ipython3",
   "version": "3.11.6"
  }
 },
 "nbformat": 4,
 "nbformat_minor": 2
}
