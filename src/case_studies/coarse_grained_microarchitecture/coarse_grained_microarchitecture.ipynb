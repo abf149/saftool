{
 "cells": [
  {
   "cell_type": "markdown",
   "metadata": {},
   "source": [
    "# Case-study: coarse-grained microarchitectural decisions"
   ]
  },
  {
   "cell_type": "code",
   "execution_count": 9,
   "metadata": {},
   "outputs": [],
   "source": [
    "from accelergy.parse_characterization import *\n",
    "char_file_path = \"../../accelergy/data/primitives_table.csv\""
   ]
  },
  {
   "cell_type": "code",
   "execution_count": 10,
   "metadata": {},
   "outputs": [
    {
     "name": "stdout",
     "output_type": "stream",
     "text": [
      "Unique Component Names (examples): ['VectorTwoFingerMergeIntersectionRegistered', 'BidirectionalBitmaskIntersectDecoupled', 'VectorParallelDec2PriorityEncoderRegistered', 'GeneralizedRipplePrefixSumRegistered', 'RegisteredEqualityComparator']\n",
      "Parameters with Ordering (examples): [('BidirectionalBitmaskIntersectDecoupled', (defaultdict(<class 'set'>, {'metaDataWidth': {128, 1, 2, 32, 4, 64, 8, 16}}), ['metaDataWidth'])), ('GeneralizedParallelKoggeStonePrefixSumRegistered', (defaultdict(<class 'set'>, {'vectorLength': {32, 1, 2, 64, 4, 8, 16}, 'inputBitWidth': {8, 1, 2, 4}}), ['vectorLength', 'inputBitWidth'])), ('GeneralizedRipplePrefixSumRegistered', (defaultdict(<class 'set'>, {'vectorLength': {32, 1, 2, 64, 4, 8, 16}, 'inputBitWidth': {8, 1, 2, 4}}), ['vectorLength', 'inputBitWidth'])), ('RegisteredAdder', (defaultdict(<class 'set'>, {'bitwidth': {32, 1, 2, 64, 4, 8, 16}}), ['bitwidth'])), ('RegisteredEqualityComparator', (defaultdict(<class 'set'>, {'bitwidth': {32, 1, 2, 64, 4, 8, 16}}), ['bitwidth']))]\n",
      "Supported Clock Latencies (examples): [('BidirectionalBitmaskIntersectDecoupled', [1.0, 2.0, 5.0, 10.0]), ('GeneralizedParallelKoggeStonePrefixSumRegistered', [1.0, 2.0, 5.0, 10.0]), ('GeneralizedRipplePrefixSumRegistered', [1.0, 2.0, 5.0, 10.0]), ('RegisteredAdder', [1.0, 2.0, 5.0, 10.0]), ('RegisteredEqualityComparator', [1.0, 2.0, 5.0, 10.0])]\n",
      "Supported Parameter Combinations (examples): [(('BidirectionalBitmaskIntersectDecoupled', 1.0), {(2,), (8,), (4,), (1,), (16,), (64,), (32,), (128,)}), (('GeneralizedParallelKoggeStonePrefixSumRegistered', 1.0), {(2, 2), (16, 4), (2, 8), (16, 1), (64, 1), (4, 2), (4, 8), (8, 2), (8, 8), (2, 4), (1, 2), (2, 1), (1, 8), (4, 1), (4, 4), (8, 4), (32, 1), (8, 1), (1, 1), (1, 4), (16, 2), (16, 8)}), (('GeneralizedRipplePrefixSumRegistered', 1.0), {(2, 2), (16, 4), (2, 8), (16, 1), (64, 1), (4, 2), (4, 8), (8, 2), (8, 8), (2, 4), (1, 2), (2, 1), (1, 8), (4, 1), (4, 4), (8, 4), (32, 1), (8, 1), (1, 1), (1, 4), (16, 2), (16, 8)}), (('RegisteredAdder', 1.0), {(2,), (8,), (4,), (1,), (16,), (64,), (32,)}), (('RegisteredEqualityComparator', 1.0), {(2,), (8,), (4,), (1,), (16,), (64,), (32,)})]\n"
     ]
    }
   ],
   "source": [
    "# Extracting unique component names\n",
    "unique_component_names = extract_unique_component_names(char_file_path)\n",
    "print(\"Unique Component Names (examples):\", list(unique_component_names)[:5])\n",
    "\n",
    "# Extracting parameters and their values with ordering\n",
    "parameters_with_ordering = extract_parameters_and_values_with_ordering(unique_component_names, char_file_path)\n",
    "print(\"Parameters with Ordering (examples):\", list(parameters_with_ordering.items())[:5])\n",
    "\n",
    "# Extracting supported clock latencies\n",
    "supported_clock_latencies = extract_supported_clock_latencies(char_file_path)\n",
    "print(\"Supported Clock Latencies (examples):\", list(supported_clock_latencies.items())[:5])\n",
    "\n",
    "# Extracting supported combinations of parameter values\n",
    "supported_param_combinations = extract_supported_param_combinations(char_file_path, unique_component_names, parameters_with_ordering)\n",
    "print(\"Supported Parameter Combinations (examples):\", list(supported_param_combinations.items())[:5])\n"
   ]
  },
  {
   "cell_type": "code",
   "execution_count": null,
   "metadata": {},
   "outputs": [],
   "source": []
  }
 ],
 "metadata": {
  "kernelspec": {
   "display_name": "Python 3",
   "language": "python",
   "name": "python3"
  },
  "language_info": {
   "codemirror_mode": {
    "name": "ipython",
    "version": 3
   },
   "file_extension": ".py",
   "mimetype": "text/x-python",
   "name": "python",
   "nbconvert_exporter": "python",
   "pygments_lexer": "ipython3",
   "version": "3.11.6"
  }
 },
 "nbformat": 4,
 "nbformat_minor": 2
}
