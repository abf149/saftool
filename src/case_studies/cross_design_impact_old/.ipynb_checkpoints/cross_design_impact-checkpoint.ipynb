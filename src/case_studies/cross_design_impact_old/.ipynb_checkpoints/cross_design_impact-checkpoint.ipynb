{
 "cells": [
  {
   "cell_type": "markdown",
   "metadata": {},
   "source": [
    "# Case-study: cross-design impact of SAFs"
   ]
  },
  {
   "cell_type": "code",
   "execution_count": 6,
   "metadata": {},
   "outputs": [
    {
     "name": "stdout",
     "output_type": "stream",
     "text": [
      "usage: safinfer [-h] [-i DIR_IN] [-a ARCH] [-m MAP] [-p PROB] [-s SPARSEOPTS]\r\n",
      "                [-o DIR_OUT] [-b BINDING_OUT] [-t TAXO_SCRIPT_LIB]\r\n",
      "                [-T TOPOLOGY_OUT] [-r] [-L] [-f LOG_FILE] [-q SETTINGS]\r\n",
      "\r\n",
      "optional arguments:\r\n",
      "  -h, --help            show this help message and exit\r\n",
      "  -i DIR_IN, --dir-in DIR_IN\r\n",
      "  -a ARCH, --arch ARCH\r\n",
      "  -m MAP, --map MAP\r\n",
      "  -p PROB, --prob PROB\r\n",
      "  -s SPARSEOPTS, --sparseopts SPARSEOPTS\r\n",
      "  -o DIR_OUT, --dir-out DIR_OUT\r\n",
      "  -b BINDING_OUT, --binding-out BINDING_OUT\r\n",
      "  -t TAXO_SCRIPT_LIB, --taxo-script-lib TAXO_SCRIPT_LIB\r\n",
      "  -T TOPOLOGY_OUT, --topology-out TOPOLOGY_OUT\r\n",
      "  -r, --reconfigurable-arch\r\n",
      "  -L, --log\r\n",
      "  -f LOG_FILE, --log-file LOG_FILE\r\n",
      "  -q SETTINGS, --settings SETTINGS\r\n",
      "                        safinfer configuration file.\r\n"
     ]
    }
   ],
   "source": [
    "!safinfer -h"
   ]
  },
  {
   "cell_type": "code",
   "execution_count": 3,
   "metadata": {},
   "outputs": [
    {
     "name": "stdout",
     "output_type": "stream",
     "text": [
      "- SAFinfer settings path: ref_input/safinfer_settings.yaml\n",
      "logging: True\n",
      ">> SAFinfer\n",
      ":: Setup\n",
      ":: => Done, setup\n",
      "reconfigurable_arch: False\n",
      ":: Taxonomic inference\n",
      "Traceback (most recent call last):\n",
      "  File \"/usr/local/bin/conda/bin/safinfer\", line 33, in <module>\n",
      "    sys.exit(load_entry_point('saftools', 'console_scripts', 'safinfer')())\n",
      "  File \"/home/saftool/src/safinfer.py\", line 90, in main\n",
      "    result=pipeline(arch,mapping,prob,sparseopts,reconfigurable_arch,bind_out_path, \\\n",
      "  File \"/home/saftool/src/safinfer.py\", line 41, in pipeline\n",
      "    return safcore.solve_saf_uarch_inference_problem(taxo_arch, \\\n",
      "  File \"/home/saftool/src/core/safinfer_core.py\", line 123, in solve_saf_uarch_inference_problem\n",
      "    result=rules_engine.run(taxo_arch,user_attributes=user_attributes)\n",
      "  File \"/home/saftool/src/solver/solve.py\", line 135, in run\n",
      "    component,visited_set,force_attr_spec=force_attributes(component,force_attr_spec,visited_set)\n",
      "  File \"/home/saftool/src/solver/constraints.py\", line 193, in force_attributes\n",
      "    force_attributes(subcomp,force_attr_spec,visited_set,parent_uri=comp_uri)\n",
      "  File \"/home/saftool/src/solver/constraints.py\", line 183, in force_attributes\n",
      "    component=apply_setting_to_component(component,setting)\n",
      "  File \"/home/saftool/src/solver/constraints.py\", line 99, in apply_setting_to_component\n",
      "    attributes_list[int(attr_spec['position'])]=attr_spec['value']\n",
      "IndexError: list assignment index out of range\n"
     ]
    }
   ],
   "source": [
    "!safinfer -i src/ref_input/ -q src/ref_input/safinfer_settings.yaml -o src/ref_output/"
   ]
  },
  {
   "cell_type": "code",
   "execution_count": 5,
   "metadata": {},
   "outputs": [
    {
     "name": "stdout",
     "output_type": "stream",
     "text": [
      "SAFmodel.\r\n",
      "\r\n",
      "Parsing input files:\r\n",
      "- netlist: ref_output/new_arch.yaml\r\n",
      "Traceback (most recent call last):\r\n",
      "  File \"/usr/local/bin/conda/bin/safmodel\", line 33, in <module>\r\n",
      "    sys.exit(load_entry_point('saftools', 'console_scripts', 'safmodel')())\r\n",
      "  File \"/home/saftool/src/safmodel.py\", line 76, in main\r\n",
      "    taxo_script_lib_list = safio.parse_args()\r\n",
      "  File \"/home/saftool/src/core/safmodel_io.py\", line 194, in parse_args\r\n",
      "    processed_args=process_args(args)\r\n",
      "  File \"/home/saftool/src/core/safmodel_io.py\", line 118, in process_args\r\n",
      "    netlist=de.Architecture.fromYamlFilename(args.topology_out)\r\n",
      "  File \"/home/saftool/src/core/taxonomy/serializableobject.py\", line 27, in fromYamlFilename\r\n",
      "    return cls.fromDict(cls.yaml2dict(fname))\r\n",
      "  File \"/home/saftool/src/core/taxonomy/serializableobject.py\", line 39, in yaml2dict\r\n",
      "    with open(fname, 'r') as file:\r\n",
      "FileNotFoundError: [Errno 2] No such file or directory: 'ref_output/new_arch.yaml'\r\n"
     ]
    }
   ],
   "source": [
    "!safmodel -T ref_output/new_arch.yaml -a ref_input/arch.yaml -s ref_input/sparseopts.yaml -c ref_input/compound_components.yaml -U ref_input/safmodel_settings.yaml  -r ref_output/arch_w_SAF.yaml -k   ref_output/ -L"
   ]
  },
  {
   "cell_type": "code",
   "execution_count": null,
   "metadata": {},
   "outputs": [],
   "source": []
  }
 ],
 "metadata": {
  "kernelspec": {
   "display_name": "Python 3 (ipykernel)",
   "language": "python",
   "name": "python3"
  },
  "language_info": {
   "codemirror_mode": {
    "name": "ipython",
    "version": 3
   },
   "file_extension": ".py",
   "mimetype": "text/x-python",
   "name": "python",
   "nbconvert_exporter": "python",
   "pygments_lexer": "ipython3",
   "version": "3.8.13"
  }
 },
 "nbformat": 4,
 "nbformat_minor": 2
}
