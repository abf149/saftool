{
 "cells": [
  {
   "cell_type": "markdown",
   "metadata": {},
   "source": [
    "# Case-study: cross-design impact of SAFs"
   ]
  },
  {
   "cell_type": "code",
   "execution_count": 7,
   "metadata": {},
   "outputs": [
    {
     "name": "stdout",
     "output_type": "stream",
     "text": [
      "usage: safinfer [-h] [-i DIR_IN] [-a ARCH] [-m MAP] [-p PROB] [-s SPARSEOPTS]\r\n",
      "                [-o DIR_OUT] [-b BINDING_OUT] [-t TAXO_SCRIPT_LIB]\r\n",
      "                [-T TOPOLOGY_OUT] [-r] [-L] [-f LOG_FILE] [-q SETTINGS]\r\n",
      "\r\n",
      "optional arguments:\r\n",
      "  -h, --help            show this help message and exit\r\n",
      "  -i DIR_IN, --dir-in DIR_IN\r\n",
      "  -a ARCH, --arch ARCH\r\n",
      "  -m MAP, --map MAP\r\n",
      "  -p PROB, --prob PROB\r\n",
      "  -s SPARSEOPTS, --sparseopts SPARSEOPTS\r\n",
      "  -o DIR_OUT, --dir-out DIR_OUT\r\n",
      "  -b BINDING_OUT, --binding-out BINDING_OUT\r\n",
      "  -t TAXO_SCRIPT_LIB, --taxo-script-lib TAXO_SCRIPT_LIB\r\n",
      "  -T TOPOLOGY_OUT, --topology-out TOPOLOGY_OUT\r\n",
      "  -r, --reconfigurable-arch\r\n",
      "  -L, --log\r\n",
      "  -f LOG_FILE, --log-file LOG_FILE\r\n",
      "  -q SETTINGS, --settings SETTINGS\r\n",
      "                        safinfer configuration file.\r\n"
     ]
    }
   ],
   "source": [
    "!safinfer -h"
   ]
  },
  {
   "cell_type": "code",
   "execution_count": 9,
   "metadata": {},
   "outputs": [
    {
     "name": "stdout",
     "output_type": "stream",
     "text": [
      "Traceback (most recent call last):\r\n",
      "  File \"/usr/local/bin/conda/bin/safinfer\", line 33, in <module>\r\n",
      "    sys.exit(load_entry_point('saftools', 'console_scripts', 'safinfer')())\r\n",
      "  File \"/home/saftool/src/safinfer.py\", line 85, in main\r\n",
      "    user_attributes = safio.parse_args()\r\n",
      "  File \"/home/saftool/src/core/safinfer_io.py\", line 161, in parse_args\r\n",
      "    processed_args = process_args(args) # Get full return tuple\r\n",
      "  File \"/home/saftool/src/core/safinfer_io.py\", line 74, in process_args\r\n",
      "    arch=sl_config.load_config_yaml(args.dir_in+'arch.yaml')\r\n",
      "  File \"/home/saftool/src/core/helper.py\", line 90, in load_config_yaml\r\n",
      "    with open(config_filename,'r') as config_fp:\r\n",
      "FileNotFoundError: [Errno 2] No such file or directory: 'ref_input/arch.yaml'\r\n"
     ]
    }
   ],
   "source": [
    "!safinfer -i ref_input/ -q ref_input/safinfer_settings.yaml -o ref_output/"
   ]
  },
  {
   "cell_type": "code",
   "execution_count": null,
   "metadata": {},
   "outputs": [],
   "source": [
    "!safmodel -h"
   ]
  },
  {
   "cell_type": "code",
   "execution_count": 5,
   "metadata": {},
   "outputs": [
    {
     "name": "stdout",
     "output_type": "stream",
     "text": [
      "SAFmodel.\r\n",
      "\r\n",
      "Parsing input files:\r\n",
      "- netlist: ref_output/new_arch.yaml\r\n",
      "Traceback (most recent call last):\r\n",
      "  File \"/usr/local/bin/conda/bin/safmodel\", line 33, in <module>\r\n",
      "    sys.exit(load_entry_point('saftools', 'console_scripts', 'safmodel')())\r\n",
      "  File \"/home/saftool/src/safmodel.py\", line 76, in main\r\n",
      "    taxo_script_lib_list = safio.parse_args()\r\n",
      "  File \"/home/saftool/src/core/safmodel_io.py\", line 194, in parse_args\r\n",
      "    processed_args=process_args(args)\r\n",
      "  File \"/home/saftool/src/core/safmodel_io.py\", line 118, in process_args\r\n",
      "    netlist=de.Architecture.fromYamlFilename(args.topology_out)\r\n",
      "  File \"/home/saftool/src/core/taxonomy/serializableobject.py\", line 27, in fromYamlFilename\r\n",
      "    return cls.fromDict(cls.yaml2dict(fname))\r\n",
      "  File \"/home/saftool/src/core/taxonomy/serializableobject.py\", line 39, in yaml2dict\r\n",
      "    with open(fname, 'r') as file:\r\n",
      "FileNotFoundError: [Errno 2] No such file or directory: 'ref_output/new_arch.yaml'\r\n"
     ]
    }
   ],
   "source": [
    "!safmodel -T src/ref_output/new_arch.yaml -a src/ref_input/arch.yaml -s src/ref_input/sparseopts.yaml -c src/ref_input/compound_components.yaml -U src/ref_input/safmodel_settings.yaml  -r src/ref_output/arch_w_SAF.yaml -k   src/ref_output/"
   ]
  },
  {
   "cell_type": "code",
   "execution_count": null,
   "metadata": {},
   "outputs": [],
   "source": []
  }
 ],
 "metadata": {
  "kernelspec": {
   "display_name": "Python 3 (ipykernel)",
   "language": "python",
   "name": "python3"
  },
  "language_info": {
   "codemirror_mode": {
    "name": "ipython",
    "version": 3
   },
   "file_extension": ".py",
   "mimetype": "text/x-python",
   "name": "python",
   "nbconvert_exporter": "python",
   "pygments_lexer": "ipython3",
   "version": "3.8.13"
  }
 },
 "nbformat": 4,
 "nbformat_minor": 2
}
