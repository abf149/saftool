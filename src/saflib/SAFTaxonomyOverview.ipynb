{
 "cells": [
  {
   "cell_type": "markdown",
   "id": "137e1cc8",
   "metadata": {},
   "source": [
    "# SAF Taxonomy Overview"
   ]
  },
  {
   "cell_type": "code",
   "execution_count": 5,
   "id": "6ea62ad6",
   "metadata": {},
   "outputs": [],
   "source": [
    "import saf_util.safinfer_io as safinfer_io\n",
    "import saflib.microarchitecture.TaxoRegistry as TaxoRegistry"
   ]
  },
  {
   "cell_type": "code",
   "execution_count": 3,
   "id": "70743ca6",
   "metadata": {},
   "outputs": [],
   "source": [
    "# Load taxonomic SAF microarchitecture library into SAFTools taxonomy registry\n",
    "taxo_script_lib=['./microarchitecture/taxoscript/*.taxoscript.yaml']\n",
    "safinfer_io.load_parse_taxo_libs(taxo_script_lib)"
   ]
  },
  {
   "cell_type": "code",
   "execution_count": 11,
   "id": "11e40ea7",
   "metadata": {},
   "outputs": [
    {
     "name": "stdout",
     "output_type": "stream",
     "text": [
      "SAF microarchitecture taxonomy\n",
      "\n",
      "- Primitive components:\n",
      "\n",
      "-- Primitive template declarations:\n",
      "\n",
      "{'DoublePositionGenerator': {'format_src': {'idx': 0, 'values': None}, 'format_dst': {'idx': 1, 'values': None}, 'source_strategy': {'idx': 2, 'values': ['kogge_stone_prefix_sum', 'ripple_prefix_sum']}, 'reference_strategy': {'idx': 3, 'values': ['parallel_dec2_priority_encoder']}}, 'FillOptimizer': {'strategy': {'idx': 0, 'values': ['pipeline_bubble_gate', 'lut_skip']}}, 'IntersectionBidirectional': {'format_0': {'idx': 0, 'values': None}, 'format_1': {'idx': 1, 'values': None}, 'strategy': {'idx': 2, 'values': ['two_finger_merge', 'skip_ahead', 'direct_map', 'bitwise_and']}}, 'IntersectionLeaderFollower': {'format_leader': {'idx': 0, 'values': None}, 'strategy': {'idx': 1, 'values': ['passthrough']}}, 'MetadataParser': {'format': {'idx': 0, 'values': None}, 'strategy': {'idx': 1, 'values': ['sentinel', 'length_field']}, 'coordinate_arithmetic': {'idx': 2, 'values': ['no_arithmetic', 'yes_arithmetic']}}, 'SinglePositionGenerator': {'format_src': {'idx': 0, 'values': None}, 'format_dst': {'idx': 1, 'values': None}, 'strategy': {'idx': 2, 'values': ['passthrough', 'counter']}}}\n",
      "\n",
      "-- Primitive template specializations:\n",
      "\n",
      "{'DoublePositionGenerator': {'B_B_ripple_prefix_sum_parallel_dec2_priority_encoder': ['B', 'B', 'ripple_prefix_sum', 'parallel_dec2_priority_encoder'], 'B_B_kogge_stone_prefix_sum_parallel_dec2_priority_encoder': ['B', 'B', 'kogge_stone_prefix_sum', 'parallel_dec2_priority_encoder']}, 'FillOptimizer': {'pipeline_bubble': ['pipeline_bubble_gate'], 'lut': ['lut_skip']}, 'IntersectionBidirectional': {'C_C_two_finger_merge': ['C', 'C', 'two_finger_merge'], 'C_C_skip_ahead': ['C', 'C', 'skip_ahead'], 'C_C_direct_map': ['C', 'C', 'direct_map'], 'B_B_bitwise_and': ['B', 'B', 'bitwise_and']}, 'IntersectionLeaderFollower': {'C_passthrough': ['C', 'passthrough'], 'B_passthrough': ['B', 'passthrough'], 'R_passthrough': ['R', 'passthrough']}, 'MetadataParser': {'U_no_arithmetic_sentinel': ['U', 'no_arithmetic', 'sentinel'], 'U_yes_arithmetic_sentinel': ['U', 'yes_arithmetic', 'sentinel'], 'U_no_arithmetic_length_field': ['U', 'no_arithmetic', 'length_field'], 'U_yes_arithmetic_length_field': ['U', 'yes_arithmetic', 'length_field'], 'C_no_arithmetic_sentinel': ['C', 'no_arithmetic', 'sentinel'], 'C_yes_arithmetic_sentinel': ['C', 'yes_arithmetic', 'sentinel'], 'C_no_arithmetic_length_field': ['C', 'no_arithmetic', 'length_field'], 'C_yes_arithmetic_length_field': ['C', 'yes_arithmetic', 'length_field'], 'B_no_arithmetic_sentinel': ['B', 'no_arithmetic', 'sentinel'], 'B_yes_arithmetic_sentinel': ['B', 'yes_arithmetic', 'sentinel'], 'B_no_arithmetic_length_field': ['B', 'no_arithmetic', 'length_field'], 'B_yes_arithmetic_length_field': ['B', 'yes_arithmetic', 'length_field']}, 'SinglePositionGenerator': {'C_U_passthrough': ['C', 'U', 'passthrough'], 'C_C_counter': ['C', 'U', 'counter']}}\n",
      "\n",
      "- Compound components:\n",
      "\n",
      "-- Compound component template declarations:\n",
      "\n",
      "{'FormatUarch': {'fibertree': {'idx': 0, 'values': None}}, 'SkippingUarch': {'format_leader': {'idx': 0, 'values': None}, 'format_follower': {'idx': 1, 'values': None}, 'direction': {'idx': 2, 'values': ['bidirectional', 'leader_follower']}, 'optimize_fills': {'idx': 3, 'values': ['no_opt_fills', 'yes_opt_fills']}}}\n",
      "\n",
      "-- Compound component template specializations:\n",
      "\n",
      "{'FormatUarch': {'all': ['/']}, 'SkippingUarch': {'C_C_bidirectional_no_opt_fills': ['C', 'C', 'bidirectional', 'no_opt_fills'], 'B_B_bidirectional_no_opt_fills': ['B', 'B', 'bidirectional', 'no_opt_fills'], 'C_U_leader_follower_no_opt_fills': ['C', 'C', 'leader_follower', 'no_opt_fills'], 'C_U_leader_follower_yes_opt_fills': ['C', 'C', 'leader_follower', 'yes_opt_fills']}}\n"
     ]
    }
   ],
   "source": [
    "# Summary of taxonomy\n",
    "print(\"SAF microarchitecture taxonomy\")\n",
    "print(\"\")\n",
    "print(\"- Primitive components:\")\n",
    "print(\"\")\n",
    "print(\"-- Primitive template declarations:\")\n",
    "print(\"\")\n",
    "print(TaxoRegistry.getPrimitiveTemplateParameterDeclarationsDict())\n",
    "print(\"\")\n",
    "print(\"-- Primitive template specializations:\")\n",
    "print(\"\")\n",
    "print(TaxoRegistry.getPrimitiveTemplateSpecializationsDict())\n",
    "print(\"\")\n",
    "print(\"- Compound components:\")\n",
    "print(\"\")\n",
    "print(\"-- Compound component template declarations:\")\n",
    "print(\"\")\n",
    "print(TaxoRegistry.getComponentTemplateParameterDeclarationsDict())\n",
    "print(\"\")\n",
    "print(\"-- Compound component template specializations:\")\n",
    "print(\"\")\n",
    "print(TaxoRegistry.getComponentTemplateSpecializationsDict())"
   ]
  },
  {
   "cell_type": "code",
   "execution_count": null,
   "id": "dc9dc8f6",
   "metadata": {},
   "outputs": [],
   "source": []
  }
 ],
 "metadata": {
  "kernelspec": {
   "display_name": "Python 3 (ipykernel)",
   "language": "python",
   "name": "python3"
  },
  "language_info": {
   "codemirror_mode": {
    "name": "ipython",
    "version": 3
   },
   "file_extension": ".py",
   "mimetype": "text/x-python",
   "name": "python",
   "nbconvert_exporter": "python",
   "pygments_lexer": "ipython3",
   "version": "3.8.13"
  }
 },
 "nbformat": 4,
 "nbformat_minor": 5
}
