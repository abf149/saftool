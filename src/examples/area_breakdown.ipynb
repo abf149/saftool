{
 "cells": [
  {
   "cell_type": "code",
   "execution_count": 1,
   "metadata": {},
   "outputs": [],
   "source": [
    "from scripts import parse_timeloop_output\n",
    "import pandas as pd\n",
    "import numpy as np\n",
    "import yaml\n",
    "import matplotlib.pyplot as plt"
   ]
  },
  {
   "cell_type": "code",
   "execution_count": 2,
   "metadata": {},
   "outputs": [],
   "source": [
    "# Returns total area & key/value array of area breakdown\n",
    "def area_from_ART(filename):\n",
    "    with open(filename, \"r\") as stream:\n",
    "        try:\n",
    "            kva = yaml.safe_load(stream)['ART']['tables']\n",
    "            total_area = sum([kv['area'] for kv in  kva ])\n",
    "            return total_area, kva\n",
    "        except yaml.YAMLError as ex:\n",
    "            print(ex)"
   ]
  },
  {
   "cell_type": "markdown",
   "metadata": {},
   "source": [
    "# Eyerissv2-like bidirectional bitmask skipping"
   ]
  },
  {
   "cell_type": "code",
   "execution_count": 3,
   "metadata": {},
   "outputs": [],
   "source": [
    "# Baseline raw metrics\n",
    "eyerisslike_bidir_bitmask_skipping_baseline = parse_timeloop_output.parse_timeloop_stats('eyerissv2_bidir_bitmask/output/timeloop-model.map+stats.xml')\n",
    "energy_pJ_baseline = float(eyerisslike_bidir_bitmask_skipping_baseline['energy_pJ'])\n",
    "cycles_baseline = float(eyerisslike_bidir_bitmask_skipping_baseline['cycles'])\n",
    "area_baseline, kva_baseline = area_from_ART('eyerissv2_bidir_bitmask/output/timeloop-model.ART.yaml')\n",
    "# Raw metrics with SAF\n",
    "eyerisslike_bidir_bitmask_skipping_saftool = parse_timeloop_output.parse_timeloop_stats('eyerissv2_bidir_bitmask/output_w_SAF/timeloop-model.map+stats.xml')\n",
    "energy_pJ_saftool = float(eyerisslike_bidir_bitmask_skipping_saftool['energy_pJ'])\n",
    "cycles_saftool = float(eyerisslike_bidir_bitmask_skipping_saftool['cycles'])\n",
    "area_saftool, kva_saftool = area_from_ART('eyerissv2_bidir_bitmask/output_w_SAF/timeloop-model.ART.yaml')"
   ]
  },
  {
   "cell_type": "markdown",
   "metadata": {},
   "source": [
    "## Summary of SAF uarch overhead impact on energy/area"
   ]
  },
  {
   "cell_type": "code",
   "execution_count": 4,
   "metadata": {},
   "outputs": [
    {
     "data": {
      "text/html": [
       "<div>\n",
       "<style scoped>\n",
       "    .dataframe tbody tr th:only-of-type {\n",
       "        vertical-align: middle;\n",
       "    }\n",
       "\n",
       "    .dataframe tbody tr th {\n",
       "        vertical-align: top;\n",
       "    }\n",
       "\n",
       "    .dataframe thead th {\n",
       "        text-align: right;\n",
       "    }\n",
       "</style>\n",
       "<table border=\"1\" class=\"dataframe\">\n",
       "  <thead>\n",
       "    <tr style=\"text-align: right;\">\n",
       "      <th></th>\n",
       "      <th>Name</th>\n",
       "      <th>Inference energy (pJ)</th>\n",
       "      <th>cycles</th>\n",
       "      <th>area (umm^2)</th>\n",
       "    </tr>\n",
       "  </thead>\n",
       "  <tbody>\n",
       "    <tr>\n",
       "      <th>0</th>\n",
       "      <td>Eyerissv2-like ideal SAFs</td>\n",
       "      <td>1.583402e+07</td>\n",
       "      <td>1592245.0</td>\n",
       "      <td>6018.9675</td>\n",
       "    </tr>\n",
       "    <tr>\n",
       "      <th>1</th>\n",
       "      <td>Eyerissv2 w/ SAF uarch</td>\n",
       "      <td>7.062020e+07</td>\n",
       "      <td>1592245.0</td>\n",
       "      <td>8102.6595</td>\n",
       "    </tr>\n",
       "  </tbody>\n",
       "</table>\n",
       "</div>"
      ],
      "text/plain": [
       "                        Name  Inference energy (pJ)     cycles  area (umm^2)\n",
       "0  Eyerissv2-like ideal SAFs           1.583402e+07  1592245.0     6018.9675\n",
       "1     Eyerissv2 w/ SAF uarch           7.062020e+07  1592245.0     8102.6595"
      ]
     },
     "execution_count": 4,
     "metadata": {},
     "output_type": "execute_result"
    }
   ],
   "source": [
    "# initialize data of lists.\n",
    "data = {'Name': ['Eyerissv2-like ideal SAFs', 'Eyerissv2 w/ SAF uarch'],\n",
    "        'Inference energy (pJ)': [energy_pJ_baseline, energy_pJ_saftool],\n",
    "        'cycles': [cycles_baseline, cycles_saftool],\n",
    "        'area (umm^2)': [area_baseline,area_saftool]}\n",
    "  \n",
    "# Create DataFrame\n",
    "df = pd.DataFrame(data)\n",
    "  \n",
    "# Print the output.\n",
    "df"
   ]
  },
  {
   "cell_type": "markdown",
   "metadata": {},
   "source": [
    "## Breakdown"
   ]
  },
  {
   "cell_type": "code",
   "execution_count": 5,
   "metadata": {},
   "outputs": [],
   "source": [
    "is_ocm = lambda x: (not(\"MAC\" in x['name'])) and (not(\"mac\" in x['name'])) and (not (\"BackingStorage\" in x['name']))\n",
    "is_arith = lambda x: (\"MAC\" in x['name']) or (\"mac\" in x['name'])"
   ]
  },
  {
   "cell_type": "code",
   "execution_count": 10,
   "metadata": {},
   "outputs": [
    {
     "name": "stdout",
     "output_type": "stream",
     "text": [
      "Baseline OCM area (um^2):  5686.717500000001 OCM components:  ['eyeriss_v2_PE.PE.psum_spad', 'eyeriss_v2_PE.PE.iact_spad', 'eyeriss_v2_PE.PE.weight_spad', 'eyeriss_v2_PE.PE.reg']\n",
      "SAFtools OCM area (um^2):  7770.4095 OCM components:  ['eyeriss_v2_PE.PE.psum_spad', 'eyeriss_v2_PE.PE.iact_spad', 'eyeriss_v2_PE.PE.weight_spad', 'eyeriss_v2_PE.PE.reg']\n",
      "SAFtools SAF uarch area (um^2):  2083.691999999999\n",
      "Baseline Arithmetic area (um^2):  332.25 Arithmetic components:  ['eyeriss_v2_PE.PE.MAC']\n",
      "SAFtools Arithmetic area (um^2):  332.25 Arithmetic components:  ['eyeriss_v2_PE.PE.MAC']\n"
     ]
    },
    {
     "data": {
      "text/html": [
       "<div>\n",
       "<style scoped>\n",
       "    .dataframe tbody tr th:only-of-type {\n",
       "        vertical-align: middle;\n",
       "    }\n",
       "\n",
       "    .dataframe tbody tr th {\n",
       "        vertical-align: top;\n",
       "    }\n",
       "\n",
       "    .dataframe thead th {\n",
       "        text-align: right;\n",
       "    }\n",
       "</style>\n",
       "<table border=\"1\" class=\"dataframe\">\n",
       "  <thead>\n",
       "    <tr style=\"text-align: right;\">\n",
       "      <th></th>\n",
       "      <th>Modeling</th>\n",
       "      <th>OCM area (um^2)</th>\n",
       "      <th>SAFuarch area (um^2)</th>\n",
       "      <th>Arithmetic (um^2)</th>\n",
       "      <th>Total (um^2)</th>\n",
       "    </tr>\n",
       "  </thead>\n",
       "  <tbody>\n",
       "    <tr>\n",
       "      <th>0</th>\n",
       "      <td>No SAFuarch modeling</td>\n",
       "      <td>5686.7175</td>\n",
       "      <td>0.000</td>\n",
       "      <td>332.25</td>\n",
       "      <td>6018.9675</td>\n",
       "    </tr>\n",
       "    <tr>\n",
       "      <th>1</th>\n",
       "      <td>w/ SAFuarch modeling</td>\n",
       "      <td>5686.7175</td>\n",
       "      <td>2083.692</td>\n",
       "      <td>332.25</td>\n",
       "      <td>8102.6595</td>\n",
       "    </tr>\n",
       "  </tbody>\n",
       "</table>\n",
       "</div>"
      ],
      "text/plain": [
       "               Modeling  OCM area (um^2)  SAFuarch area (um^2)  \\\n",
       "0  No SAFuarch modeling        5686.7175                 0.000   \n",
       "1  w/ SAFuarch modeling        5686.7175              2083.692   \n",
       "\n",
       "   Arithmetic (um^2)  Total (um^2)  \n",
       "0             332.25     6018.9675  \n",
       "1             332.25     8102.6595  "
      ]
     },
     "metadata": {},
     "output_type": "display_data"
    },
    {
     "data": {
      "text/html": [
       "<div>\n",
       "<style scoped>\n",
       "    .dataframe tbody tr th:only-of-type {\n",
       "        vertical-align: middle;\n",
       "    }\n",
       "\n",
       "    .dataframe tbody tr th {\n",
       "        vertical-align: top;\n",
       "    }\n",
       "\n",
       "    .dataframe thead th {\n",
       "        text-align: right;\n",
       "    }\n",
       "</style>\n",
       "<table border=\"1\" class=\"dataframe\">\n",
       "  <thead>\n",
       "    <tr style=\"text-align: right;\">\n",
       "      <th></th>\n",
       "      <th>Modeling</th>\n",
       "      <th>OCM area (%)</th>\n",
       "      <th>SAFuarch area (%)</th>\n",
       "      <th>Arithmetic (%)</th>\n",
       "    </tr>\n",
       "  </thead>\n",
       "  <tbody>\n",
       "    <tr>\n",
       "      <th>0</th>\n",
       "      <td>No SAFuarch modeling</td>\n",
       "      <td>94.479950</td>\n",
       "      <td>0.000000</td>\n",
       "      <td>5.520050</td>\n",
       "    </tr>\n",
       "    <tr>\n",
       "      <th>1</th>\n",
       "      <td>w/ SAFuarch modeling</td>\n",
       "      <td>70.183345</td>\n",
       "      <td>25.716149</td>\n",
       "      <td>4.100506</td>\n",
       "    </tr>\n",
       "  </tbody>\n",
       "</table>\n",
       "</div>"
      ],
      "text/plain": [
       "               Modeling  OCM area (%)  SAFuarch area (%)  Arithmetic (%)\n",
       "0  No SAFuarch modeling     94.479950           0.000000        5.520050\n",
       "1  w/ SAFuarch modeling     70.183345          25.716149        4.100506"
      ]
     },
     "metadata": {},
     "output_type": "display_data"
    }
   ],
   "source": [
    "# Baseline breakdown\n",
    "\n",
    "ocm_baseline_components = [kv['name'] for kv in kva_baseline if is_ocm(kv)]\n",
    "mac_baseline_components = [kv['name'] for kv in kva_baseline if is_arith(kv)]\n",
    "ocm_baseline_area = sum([kv['area'] for kv in kva_baseline if kv['name'] in ocm_baseline_components])\n",
    "mac_baseline_area = sum([kv['area'] for kv in kva_baseline if kv['name'] in mac_baseline_components])\n",
    "\n",
    "# Breakdown with SAF uarch overhead\n",
    "\n",
    "ocm_saftool_components = [kv['name'] for kv in kva_saftool if is_ocm(kv)]\n",
    "mac_saftool_components = [kv['name'] for kv in kva_saftool if is_arith(kv)]\n",
    "ocm_saftool_area = sum([kv['area'] for kv in kva_saftool if kv['name'] in ocm_saftool_components])\n",
    "mac_saftool_area = sum([kv['area'] for kv in kva_saftool if kv['name'] in mac_saftool_components])\n",
    "safuarch_saftool_area = (ocm_saftool_area - ocm_baseline_area) + (mac_saftool_area - mac_baseline_area)\n",
    "\n",
    "print('Baseline OCM area (um^2): ', ocm_baseline_area, 'OCM components: ', ocm_baseline_components)\n",
    "print('SAFtools OCM area (um^2): ', ocm_saftool_area, 'OCM components: ', ocm_saftool_components)\n",
    "print('SAFtools SAF uarch area (um^2): ', safuarch_saftool_area)\n",
    "print('Baseline Arithmetic area (um^2): ', mac_baseline_area, 'Arithmetic components: ', mac_baseline_components)\n",
    "print('SAFtools Arithmetic area (um^2): ', mac_saftool_area, 'Arithmetic components: ', mac_saftool_components)\n",
    "\n",
    "# initialize data of lists.\n",
    "data = {'Modeling': ['No SAFuarch modeling', 'w/ SAFuarch modeling'],\n",
    "        'OCM area (um^2)': [ocm_baseline_area, ocm_baseline_area],\n",
    "        'SAFuarch area (um^2)': [0.0, safuarch_saftool_area],\n",
    "        'Arithmetic (um^2)': [mac_baseline_area,mac_baseline_area]}\n",
    "data['Total (um^2)'] = [(data['OCM area (um^2)'][0]+data['SAFuarch area (um^2)'][0]+data['Arithmetic (um^2)'][0]),\n",
    "                        (data['OCM area (um^2)'][1]+data['SAFuarch area (um^2)'][1]+data['Arithmetic (um^2)'][1])]\n",
    "\n",
    "data_pct = {'Modeling': ['No SAFuarch modeling', 'w/ SAFuarch modeling'],\n",
    "            'OCM area (%)':[100.0*data['OCM area (um^2)'][0]/data['Total (um^2)'][0],\n",
    "                            100.0*data['OCM area (um^2)'][1]/data['Total (um^2)'][1]],\n",
    "            'SAFuarch area (%)':[100.0*data['SAFuarch area (um^2)'][0]/data['Total (um^2)'][0],\n",
    "                                 100.0*data['SAFuarch area (um^2)'][1]/data['Total (um^2)'][1]],\n",
    "            'Arithmetic (%)':[100.0*data['Arithmetic (um^2)'][0]/data['Total (um^2)'][0],\n",
    "                                 100.0*data['Arithmetic (um^2)'][1]/data['Total (um^2)'][1]]                                 }\n",
    "\n",
    "\n",
    "# Create DataFrame\n",
    "df = pd.DataFrame(data)\n",
    "df.style.set_caption('Eyerissv2-like bidirectional bitmask skipping: PE area breakdown in um^2')\n",
    "df_pct = pd.DataFrame(data_pct)\n",
    "df_pct.style.set_caption('Eyerissv2-like bidirectional bitmask skipping: PE area breakdown in %')\n",
    "  \n",
    "# Print the output.\n",
    "display(df)\n",
    "display(df_pct)"
   ]
  },
  {
   "cell_type": "code",
   "execution_count": 7,
   "metadata": {},
   "outputs": [
    {
     "data": {
      "text/plain": [
       "([<matplotlib.patches.Wedge at 0x147590d50>,\n",
       "  <matplotlib.patches.Wedge at 0x1475ec310>],\n",
       " [Text(-1.0835009076306448, 0.18980459205079578, 'OCM area'),\n",
       "  Text(1.0835008943025508, -0.18980466813430333, 'Arithmetic area')])"
      ]
     },
     "execution_count": 7,
     "metadata": {},
     "output_type": "execute_result"
    },
    {
     "data": {
      "image/png": "[encoded data removed]",
      "text/plain": [
       "<Figure size 640x480 with 1 Axes>"
      ]
     },
     "metadata": {},
     "output_type": "display_data"
    }
   ],
   "source": [
    "labels = 'OCM area', 'Arithmetic area'\n",
    "sizes = [data_pct['OCM area (%)'][0], data_pct['Arithmetic (%)'][0]]\n",
    "\n",
    "fig, ax = plt.subplots()\n",
    "plt.title('Eyerissv2-like bidirectional bitmask skipping, ideal SAF with no added uarch overhead: PE area breakdown in %')\n",
    "ax.pie(sizes, labels=labels)"
   ]
  },
  {
   "cell_type": "code",
   "execution_count": 8,
   "metadata": {},
   "outputs": [
    {
     "data": {
      "text/plain": [
       "([<matplotlib.patches.Wedge at 0x1475f9010>,\n",
       "  <matplotlib.patches.Wedge at 0x1477703d0>,\n",
       "  <matplotlib.patches.Wedge at 0x147771610>],\n",
       " [Text(-0.651679015336022, 0.886179700157182, 'OCM area'),\n",
       "  Text(0.5324361018077526, -0.9625548283042191, 'SAFuarch area'),\n",
       "  Text(1.0908854579073577, -0.1413114210750665, 'Arithmetic area')])"
      ]
     },
     "execution_count": 8,
     "metadata": {},
     "output_type": "execute_result"
    },
    {
     "data": {
      "image/png": "[encoded data removed]",
      "text/plain": [
       "<Figure size 640x480 with 1 Axes>"
      ]
     },
     "metadata": {},
     "output_type": "display_data"
    }
   ],
   "source": [
    "labels = 'OCM area', 'SAFuarch area', 'Arithmetic area'\n",
    "sizes = [data_pct['OCM area (%)'][1], data_pct['SAFuarch area (%)'][1], data_pct['Arithmetic (%)'][1]]\n",
    "\n",
    "fig, ax = plt.subplots()\n",
    "plt.title('Eyerissv2-like bidirectional bitmask skipping, with SAF uarch modeling: PE area breakdown in %')\n",
    "ax.pie(sizes, labels=labels)"
   ]
  },
  {
   "cell_type": "code",
   "execution_count": 9,
   "metadata": {},
   "outputs": [],
   "source": [
    "# fig = plt.figure(figsize = (8, 2))\n",
    "# ax = fig.add_subplot(111)\n",
    "\n",
    "# ax.table(cellText = df.values,\n",
    "#           rowLabels = df.index,\n",
    "#           colLabels = df.columns,\n",
    "#           loc = \"center\"\n",
    "#          )\n",
    "# ax.set_title(\"Eyerissv2-like bidirectional bitmask skipping: PE area breakdown in um^2\")\n",
    "\n",
    "# ax.axis(\"off\");"
   ]
  }
 ],
 "metadata": {
  "kernelspec": {
   "display_name": "Python 3.11.1 64-bit",
   "language": "python",
   "name": "python3"
  },
  "language_info": {
   "codemirror_mode": {
    "name": "ipython",
    "version": 3
   },
   "file_extension": ".py",
   "mimetype": "text/x-python",
   "name": "python",
   "nbconvert_exporter": "python",
   "pygments_lexer": "ipython3",
   "version": "3.11.1"
  },
  "orig_nbformat": 4,
  "vscode": {
   "interpreter": {
    "hash": "5c7b89af1651d0b8571dde13640ecdccf7d5a6204171d6ab33e7c296e100e08a"
   }
  }
 },
 "nbformat": 4,
 "nbformat_minor": 2
}
